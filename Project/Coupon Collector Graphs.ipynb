{
 "cells": [
  {
   "cell_type": "code",
   "execution_count": 4,
   "metadata": {
    "collapsed": true
   },
   "outputs": [],
   "source": [
    "%matplotlib inline\n",
    "import math\n",
    "import numpy as np\n",
    "from matplotlib import pyplot as plt\n",
    "from multiprocessing import Pool\n",
    "\n",
    "import os\n",
    "import time\n",
    "import sys"
   ]
  },
  {
   "cell_type": "code",
   "execution_count": 5,
   "metadata": {
    "collapsed": false
   },
   "outputs": [],
   "source": [
    "def simMotif_wrap(numberOfMotif):\n",
    "    def simMotif(tmp):\n",
    "        motifs = [0]*numberOfMotif\n",
    "        album = dict()\n",
    "        k = 0\n",
    "        while len(album) < numberOfMotif:\n",
    "            motifNumber = np.random.randint(numberOfMotif)\n",
    "            motifs[motifNumber] += 1\n",
    "            if motifs[motifNumber] >= 2:\n",
    "                album[motifNumber] = 1\n",
    "            k += 1\n",
    "        return np.array(motifs)\n",
    "    return simMotif"
   ]
  },
  {
   "cell_type": "code",
   "execution_count": 6,
   "metadata": {
    "collapsed": true
   },
   "outputs": [],
   "source": [
    "def freqDis(data):\n",
    "    freq = dict()\n",
    "    for d in data:\n",
    "        freq[d] = freq.get(d, 0) + 1\n",
    "    return freq"
   ]
  },
  {
   "cell_type": "code",
   "execution_count": 7,
   "metadata": {
    "collapsed": false
   },
   "outputs": [],
   "source": [
    "def combine(freqs):\n",
    "    totalFreq = dict()\n",
    "    for freq in freqs:\n",
    "        for k in freq.keys():\n",
    "            totalFreq[k] = totalFreq.get(k, 0) + freq[k]\n",
    "    return totalFreq"
   ]
  },
  {
   "cell_type": "code",
   "execution_count": 8,
   "metadata": {
    "collapsed": true
   },
   "outputs": [],
   "source": [
    "def maxFreq(totalFreq):\n",
    "    keys = freq.keys()\n",
    "    key = keys[0]\n",
    "    maxSoFar = totalFreq[keys[0]]\n",
    "    for k in keys:\n",
    "        val = totalFreq[k]\n",
    "        if val > maxSoFar:\n",
    "            key = k\n",
    "            maxSoFar = val\n",
    "    return key"
   ]
  },
  {
   "cell_type": "code",
   "execution_count": null,
   "metadata": {
    "collapsed": false
   },
   "outputs": [],
   "source": [
    "numberOfMotif = 721\n",
    "numberOfSim = 10000\n",
    "simMotif = simMotif_wrap(numberOfMotif)"
   ]
  },
  {
   "cell_type": "code",
   "execution_count": null,
   "metadata": {
    "collapsed": false
   },
   "outputs": [],
   "source": [
    "start_time = time.time()\n",
    "p = Pool(4)\n",
    "datas = p.map(simMotif, range(numberOfSim))\n",
    "freqs = p.map(freqDis, datas)\n",
    "print(\"--- %s seconds ---\" % (time.time() - start_time))"
   ]
  },
  {
   "cell_type": "code",
   "execution_count": null,
   "metadata": {
    "collapsed": false
   },
   "outputs": [],
   "source": [
    "totalFreq = combine(freqs)"
   ]
  },
  {
   "cell_type": "code",
   "execution_count": null,
   "metadata": {
    "collapsed": false
   },
   "outputs": [],
   "source": [
    "xs = totalFreq.keys()\n",
    "ys = [ totalFreq[x]/numberOfSim for x in xs ]\n",
    "maxx = maxFreq(totalFreq)\n",
    "mean = np.mean(ys)\n",
    "plt.figure(figsize=(10,10))\n",
    "plt.plot(xs, ys, lw = 2, c = 'crimson', label = \"Number of Motif: \" + str(numberOfMotif))\n",
    "plt.axvline(maxx, c='c', ls = '--', lw = 2, label = \"Peak At: \" + str(maxx))\n",
    "plt.legend()\n",
    "plt.savefig(\"Number of Motif: \" + str(numberOfMotif) + \" and \" + \"Peak At: \" + str(maxx))"
   ]
  },
  {
   "cell_type": "code",
   "execution_count": 10,
   "metadata": {
    "collapsed": false
   },
   "outputs": [],
   "source": [
    "numberOfMotifs = np.linspace(10, 2000, 100)#[50 * i for i in xrange(1, 100)]\n",
    "numberOfSim = 10000\n"
   ]
  },
  {
   "cell_type": "code",
   "execution_count": 11,
   "metadata": {
    "collapsed": false
   },
   "outputs": [
    {
     "name": "stdout",
     "output_type": "stream",
     "text": [
      "10\n",
      "190\n",
      "371\n",
      "30\n",
      "50\n",
      "70\n",
      "90\n",
      "211\n",
      "110\n",
      "130\n",
      "231\n",
      "391\n",
      "150\n",
      "170\n",
      "251\n",
      "552\n",
      "412\n",
      "271\n",
      "291\n",
      "432\n",
      "572\n",
      "311\n",
      "452\n",
      "331\n",
      "592\n",
      "351\n",
      "472\n",
      "733\n",
      "613\n",
      "492\n",
      "512\n",
      "753\n",
      "633\n",
      "532\n",
      "653\n",
      "773\n",
      "914\n",
      "673\n",
      "793\n",
      "934\n",
      "693\n",
      "814\n",
      "713\n",
      "954\n",
      "834\n",
      "1095\n",
      "974\n",
      "854\n",
      "1115\n",
      "994\n",
      "874\n",
      "894\n",
      "1135\n",
      "1015\n",
      "1276\n",
      "1035\n",
      "1155\n",
      "1055\n",
      "1296\n",
      "1175\n",
      "1075\n",
      "1316\n",
      "1195\n",
      "1457\n",
      "1216\n",
      "1336\n",
      "1477\n",
      "1236\n",
      "1356\n",
      "1256\n",
      "1497\n",
      "1376\n",
      "1638\n",
      "1517\n",
      "1396\n",
      "1658\n",
      "1537\n",
      "1417\n",
      "1437\n",
      "1678\n",
      "1557\n",
      "1819\n",
      "1577\n",
      "1698\n",
      "1597\n",
      "1839\n",
      "1718\n",
      "1618\n",
      "1859\n",
      "1738\n",
      "2000\n",
      "1758\n",
      "1879\n",
      "1778\n",
      "1899\n",
      "1798\n",
      "1919\n",
      "1939\n",
      "1959\n",
      "1979\n",
      "--- 2347.69407797 seconds ---\n"
     ]
    }
   ],
   "source": [
    "start_time = time.time()\n",
    "def wrap(numberOfMotif):\n",
    "    numberOfMotif = int(numberOfMotif)\n",
    "    print numberOfMotif\n",
    "    simMotif = simMotif_wrap(numberOfMotif)\n",
    "    datas = [simMotif(i) for i in xrange(numberOfSim)]\n",
    "    return np.mean(datas)\n",
    "\n",
    "p = Pool(3)\n",
    "means = p.map(wrap, numberOfMotifs) \n",
    "print(\"--- %s seconds ---\" % (time.time() - start_time))"
   ]
  },
  {
   "cell_type": "code",
   "execution_count": 12,
   "metadata": {
    "collapsed": false
   },
   "outputs": [
    {
     "data": {
      "text/plain": [
       "[4.6316600000000001,\n",
       " 5.9087566666666671,\n",
       " 6.4984780000000004,\n",
       " 6.8755100000000002,\n",
       " 7.1618788888888885,\n",
       " 7.4076209090909089,\n",
       " 7.5991253846153848,\n",
       " 7.736518666666667,\n",
       " 7.8901152941176473,\n",
       " 8.0156189473684218,\n",
       " 8.0924327014218012,\n",
       " 8.2354740259740264,\n",
       " 8.3286768924302788,\n",
       " 8.4224394833948342,\n",
       " 8.4951518900343643,\n",
       " 8.57158617363344,\n",
       " 8.6438096676737164,\n",
       " 8.7171914529914538,\n",
       " 8.7568458221024255,\n",
       " 8.8289820971867012,\n",
       " 8.8888325242718444,\n",
       " 8.9449747685185184,\n",
       " 9.0062469026548673,\n",
       " 9.0350747881355939,\n",
       " 9.0853457317073172,\n",
       " 9.1087035156250007,\n",
       " 9.1850441729323311,\n",
       " 9.2038655797101452,\n",
       " 9.2252814685314686,\n",
       " 9.2777679054054047,\n",
       " 9.343238988580751,\n",
       " 9.3662530805687201,\n",
       " 9.3758470137825416,\n",
       " 9.4222985141158997,\n",
       " 9.4535152958152953,\n",
       " 9.4876884992987378,\n",
       " 9.5096927694406546,\n",
       " 9.5499567065073041,\n",
       " 9.571488486416559,\n",
       " 9.6170592686002525,\n",
       " 9.6438008599508596,\n",
       " 9.6744346522781779,\n",
       " 9.6909973067915693,\n",
       " 9.7143127002288328,\n",
       " 9.7286515659955253,\n",
       " 9.7661949671772437,\n",
       " 9.7738846895074953,\n",
       " 9.8271968553459121,\n",
       " 9.836866632443531,\n",
       " 9.878131790744467,\n",
       " 9.8747566502463062,\n",
       " 9.8939239613526571,\n",
       " 9.9131768720379139,\n",
       " 9.924648186046511,\n",
       " 9.9492474885844757,\n",
       " 9.9730302242152469,\n",
       " 10.001568546255507,\n",
       " 9.99974051948052,\n",
       " 10.011512936170213,\n",
       " 10.032612217573222,\n",
       " 10.080181496710527,\n",
       " 10.085923381877024,\n",
       " 10.112112818471337,\n",
       " 10.120990360501567,\n",
       " 10.149865046296297,\n",
       " 10.137733054711246,\n",
       " 10.160697979041917,\n",
       " 10.177233407079646,\n",
       " 10.214980741279069,\n",
       " 10.185926074498568,\n",
       " 10.262304728299224,\n",
       " 10.269846694502435,\n",
       " 10.265741660947151,\n",
       " 10.246669194312796,\n",
       " 10.291769472277888,\n",
       " 10.306995319709953,\n",
       " 10.317453480806767,\n",
       " 10.358299293513166,\n",
       " 10.372914584654406,\n",
       " 10.412334627426425,\n",
       " 10.420636341161929,\n",
       " 10.423853601953603,\n",
       " 10.4294958986731,\n",
       " 10.45893778307509,\n",
       " 10.470020141342756,\n",
       " 10.461225844004657,\n",
       " 10.464983084004603,\n",
       " 10.488532252559727,\n",
       " 10.502171653543307,\n",
       " 10.475401390433815,\n",
       " 10.533314403518416,\n",
       " 10.525339641109298,\n",
       " 10.559624421732114,\n",
       " 10.546291112293773,\n",
       " 10.584668667719853,\n",
       " 10.56898462741011,\n",
       " 10.593881279009798,\n",
       " 10.585207248596223,\n",
       " 10.593037544214249,\n",
       " 10.63044605]"
      ]
     },
     "execution_count": 12,
     "metadata": {},
     "output_type": "execute_result"
    }
   ],
   "source": [
    "means"
   ]
  },
  {
   "cell_type": "code",
   "execution_count": 13,
   "metadata": {
    "collapsed": false
   },
   "outputs": [],
   "source": [
    "ys = means"
   ]
  },
  {
   "cell_type": "code",
   "execution_count": 14,
   "metadata": {
    "collapsed": false
   },
   "outputs": [
    {
     "data": {
      "text/plain": [
       "[<matplotlib.lines.Line2D at 0x10b8d7e90>]"
      ]
     },
     "execution_count": 14,
     "metadata": {},
     "output_type": "execute_result"
    },
    {
     "data": {
      "image/png": "[encoded data removed]",
      "text/plain": [
       "<matplotlib.figure.Figure at 0x10b8d7dd0>"
      ]
     },
     "metadata": {},
     "output_type": "display_data"
    }
   ],
   "source": [
    "plt.plot(numberOfMotifs, ys)\n",
    "plt.plot(numberOfMotifs, np.log(numberOfMotifs) + 3)"
   ]
  },
  {
   "cell_type": "code",
   "execution_count": null,
   "metadata": {
    "collapsed": false
   },
   "outputs": [],
   "source": [
    "ys"
   ]
  },
  {
   "cell_type": "code",
   "execution_count": null,
   "metadata": {
    "collapsed": false
   },
   "outputs": [],
   "source": [
    "tmpps = [np.mean(x) for x in tmps]"
   ]
  },
  {
   "cell_type": "code",
   "execution_count": null,
   "metadata": {
    "collapsed": false
   },
   "outputs": [],
   "source": [
    "tmpps"
   ]
  },
  {
   "cell_type": "code",
   "execution_count": null,
   "metadata": {
    "collapsed": false
   },
   "outputs": [],
   "source": [
    "np.mean(tmpps)"
   ]
  },
  {
   "cell_type": "code",
   "execution_count": null,
   "metadata": {
    "collapsed": true
   },
   "outputs": [],
   "source": []
  }
 ],
 "metadata": {
  "kernelspec": {
   "display_name": "Python 2",
   "language": "python",
   "name": "python2"
  },
  "language_info": {
   "codemirror_mode": {
    "name": "ipython",
    "version": 2
   },
   "file_extension": ".py",
   "mimetype": "text/x-python",
   "name": "python",
   "nbconvert_exporter": "python",
   "pygments_lexer": "ipython2",
   "version": "2.7.10"
  }
 },
 "nbformat": 4,
 "nbformat_minor": 0
}
