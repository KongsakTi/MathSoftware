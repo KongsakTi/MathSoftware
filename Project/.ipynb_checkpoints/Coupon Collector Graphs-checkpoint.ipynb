{
 "cells": [
  {
   "cell_type": "code",
   "execution_count": 1,
   "metadata": {
    "collapsed": true
   },
   "outputs": [],
   "source": [
    "%matplotlib inline\n",
    "import math\n",
    "import numpy as np\n",
    "from matplotlib import pyplot as plt\n",
    "from multiprocessing import Pool\n",
    "\n",
    "import os\n",
    "import time\n",
    "import sys"
   ]
  },
  {
   "cell_type": "code",
   "execution_count": 2,
   "metadata": {
    "collapsed": false
   },
   "outputs": [],
   "source": [
    "def simMotif_wrap(numberOfMotif):\n",
    "    def simMotif(tmp):\n",
    "        motifs = [0]*numberOfMotif\n",
    "        album = dict()\n",
    "        k = 0\n",
    "        while len(album) < numberOfMotif:\n",
    "            motifNumber = np.random.randint(numberOfMotif)\n",
    "            motifs[motifNumber] += 1\n",
    "            if motifs[motifNumber] >= 2:\n",
    "                album[motifNumber] = 1\n",
    "            k += 1\n",
    "        return np.array(motifs)\n",
    "    return simMotif"
   ]
  },
  {
   "cell_type": "code",
   "execution_count": 3,
   "metadata": {
    "collapsed": true
   },
   "outputs": [],
   "source": [
    "def freqDis(data):\n",
    "    freq = dict()\n",
    "    for d in data:\n",
    "        freq[d] = freq.get(d, 0) + 1\n",
    "    return freq"
   ]
  },
  {
   "cell_type": "code",
   "execution_count": 4,
   "metadata": {
    "collapsed": false
   },
   "outputs": [],
   "source": [
    "def combine(freqs):\n",
    "    totalFreq = dict()\n",
    "    for freq in freqs:\n",
    "        for k in freq.keys():\n",
    "            totalFreq[k] = totalFreq.get(k, 0) + freq[k]\n",
    "    return totalFreq"
   ]
  },
  {
   "cell_type": "code",
   "execution_count": 5,
   "metadata": {
    "collapsed": true
   },
   "outputs": [],
   "source": [
    "def maxFreq(totalFreq):\n",
    "    keys = freq.keys()\n",
    "    key = keys[0]\n",
    "    maxSoFar = totalFreq[keys[0]]\n",
    "    for k in keys:\n",
    "        val = totalFreq[k]\n",
    "        if val > maxSoFar:\n",
    "            key = k\n",
    "            maxSoFar = val\n",
    "    return key"
   ]
  },
  {
   "cell_type": "code",
   "execution_count": null,
   "metadata": {
    "collapsed": false
   },
   "outputs": [],
   "source": [
    "numberOfMotif = 721\n",
    "numberOfSim = 10000\n",
    "simMotif = simMotif_wrap(numberOfMotif)"
   ]
  },
  {
   "cell_type": "code",
   "execution_count": null,
   "metadata": {
    "collapsed": false
   },
   "outputs": [],
   "source": [
    "start_time = time.time()\n",
    "p = Pool(4)\n",
    "datas = p.map(simMotif, range(numberOfSim))\n",
    "freqs = p.map(freqDis, datas)\n",
    "print(\"--- %s seconds ---\" % (time.time() - start_time))"
   ]
  },
  {
   "cell_type": "code",
   "execution_count": null,
   "metadata": {
    "collapsed": false
   },
   "outputs": [],
   "source": [
    "totalFreq = combine(freqs)"
   ]
  },
  {
   "cell_type": "code",
   "execution_count": null,
   "metadata": {
    "collapsed": false
   },
   "outputs": [],
   "source": [
    "xs = totalFreq.keys()\n",
    "ys = [ totalFreq[x]/numberOfSim for x in xs ]\n",
    "maxx = maxFreq(totalFreq)\n",
    "mean = np.mean(ys)\n",
    "plt.figure(figsize=(10,10))\n",
    "plt.plot(xs, ys, lw = 2, c = 'crimson', label = \"Number of Motif: \" + str(numberOfMotif))\n",
    "plt.axvline(maxx, c='c', ls = '--', lw = 2, label = \"Peak At: \" + str(maxx))\n",
    "plt.legend()\n",
    "plt.savefig(\"Number of Motif: \" + str(numberOfMotif) + \" and \" + \"Peak At: \" + str(maxx))"
   ]
  },
  {
   "cell_type": "code",
   "execution_count": null,
   "metadata": {
    "collapsed": false
   },
   "outputs": [],
   "source": [
    "numberOfMotifs = np.linspace(10, 2000, 100)#[50 * i for i in xrange(1, 100)]\n",
    "numberOfSim = 10000\n"
   ]
  },
  {
   "cell_type": "code",
   "execution_count": null,
   "metadata": {
    "collapsed": false
   },
   "outputs": [],
   "source": [
    "start_time = time.time()\n",
    "def wrap(numberOfMotif):\n",
    "    print numberOfMotif\n",
    "    simMotif = simMotif_wrap(numberOfMotif)\n",
    "    datas = [simMotif(i) for i in xrange(numberOfSim)]\n",
    "    return np.mean(datas)\n",
    "\n",
    "p = Pool(3)\n",
    "means = p.map(wrap, numberOfMotifs) \n",
    "print(\"--- %s seconds ---\" % (time.time() - start_time))"
   ]
  },
  {
   "cell_type": "code",
   "execution_count": null,
   "metadata": {
    "collapsed": false
   },
   "outputs": [],
   "source": [
    "means"
   ]
  },
  {
   "cell_type": "code",
   "execution_count": null,
   "metadata": {
    "collapsed": false
   },
   "outputs": [],
   "source": [
    "ys = means"
   ]
  },
  {
   "cell_type": "code",
   "execution_count": null,
   "metadata": {
    "collapsed": false
   },
   "outputs": [],
   "source": [
    "plt.plot(numberOfMotifs, ys)\n",
    "plt.plot(numberOfMotifs, np.log(numberOfMotifs) + 3)"
   ]
  },
  {
   "cell_type": "code",
   "execution_count": null,
   "metadata": {
    "collapsed": false
   },
   "outputs": [],
   "source": [
    "ys"
   ]
  },
  {
   "cell_type": "code",
   "execution_count": null,
   "metadata": {
    "collapsed": false
   },
   "outputs": [],
   "source": [
    "tmpps = [np.mean(x) for x in tmps]"
   ]
  },
  {
   "cell_type": "code",
   "execution_count": null,
   "metadata": {
    "collapsed": false
   },
   "outputs": [],
   "source": [
    "tmpps"
   ]
  },
  {
   "cell_type": "code",
   "execution_count": null,
   "metadata": {
    "collapsed": false
   },
   "outputs": [],
   "source": [
    "np.mean(tmpps)"
   ]
  },
  {
   "cell_type": "code",
   "execution_count": null,
   "metadata": {
    "collapsed": true
   },
   "outputs": [],
   "source": []
  }
 ],
 "metadata": {
  "kernelspec": {
   "display_name": "Python 2",
   "language": "python",
   "name": "python2"
  },
  "language_info": {
   "codemirror_mode": {
    "name": "ipython",
    "version": 2
   },
   "file_extension": ".py",
   "mimetype": "text/x-python",
   "name": "python",
   "nbconvert_exporter": "python",
   "pygments_lexer": "ipython2",
   "version": "2.7.10"
  }
 },
 "nbformat": 4,
 "nbformat_minor": 0
}
